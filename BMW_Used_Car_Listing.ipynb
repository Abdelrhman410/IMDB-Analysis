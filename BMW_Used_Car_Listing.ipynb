{
  "nbformat": 4,
  "nbformat_minor": 0,
  "metadata": {
    "colab": {
      "provenance": [],
      "authorship_tag": "ABX9TyM8dnjLsMWO5X8O2GLr4uPD",
      "include_colab_link": true
    },
    "kernelspec": {
      "name": "python3",
      "display_name": "Python 3"
    },
    "language_info": {
      "name": "python"
    }
  },
  "cells": [
    {
      "cell_type": "markdown",
      "metadata": {
        "id": "view-in-github",
        "colab_type": "text"
      },
      "source": [
        "<a href=\"https://colab.research.google.com/github/Abdelrhman410/IMDB-Analysis/blob/main/BMW_Used_Car_Listing.ipynb\" target=\"_parent\"><img src=\"https://colab.research.google.com/assets/colab-badge.svg\" alt=\"Open In Colab\"/></a>"
      ]
    },
    {
      "cell_type": "markdown",
      "source": [
        "#**$\\color{skyblue}{\\text{Questions of  the stake holders}}$**"
      ],
      "metadata": {
        "id": "x3wbUJ2sZNpl"
      }
    },
    {
      "cell_type": "markdown",
      "source": [
        "1.What is the correlation between all columns?\n",
        "\n",
        "2.Which model has the highest of prices\n",
        "\n",
        "3.Which one has the highst price avr automatic or manual or semi-auto\n",
        "\n",
        "4.Which type of fuel has the highest price ?"
      ],
      "metadata": {
        "id": "nQ3Yl9nZZWA5"
      }
    },
    {
      "cell_type": "markdown",
      "source": [
        "#**$\\color{skyblue}{\\text{Inserting The Dataset}}$**"
      ],
      "metadata": {
        "id": "Mt6GerN0gkpM"
      }
    },
    {
      "cell_type": "code",
      "source": [
        "import pandas as pd\n",
        "import numpy as np\n",
        "import matplotlib.pyplot as plt"
      ],
      "metadata": {
        "id": "f-YypLGsjrO7"
      },
      "execution_count": 60,
      "outputs": []
    },
    {
      "cell_type": "code",
      "source": [
        "df = pd.read_csv(\"https://raw.githubusercontent.com/Abdelrhman410/IMDB-Analysis/main/bmw.csv\")"
      ],
      "metadata": {
        "id": "qWyvgV-4VlVu"
      },
      "execution_count": 61,
      "outputs": []
    },
    {
      "cell_type": "code",
      "source": [
        "df.head(10)"
      ],
      "metadata": {
        "colab": {
          "base_uri": "https://localhost:8080/",
          "height": 363
        },
        "id": "t-BciXkiWkVj",
        "outputId": "dde5f894-9f29-43b6-88ae-9665496a68fd"
      },
      "execution_count": 59,
      "outputs": [
        {
          "output_type": "execute_result",
          "data": {
            "text/plain": [
              "       model  year  price transmission  mileage fuelType  tax   mpg  \\\n",
              "0   5 Series  2014  11200    Automatic    67068   Diesel  125  57.6   \n",
              "1   6 Series  2018  27000    Automatic    14827   Petrol  145  42.8   \n",
              "2   5 Series  2016  16000    Automatic    62794   Diesel  160  51.4   \n",
              "3   1 Series  2017  12750    Automatic    26676   Diesel  145  72.4   \n",
              "4   7 Series  2014  14500    Automatic    39554   Diesel  160  50.4   \n",
              "5   5 Series  2016  14900    Automatic    35309   Diesel  125  60.1   \n",
              "6   5 Series  2017  16000    Automatic    38538   Diesel  125  60.1   \n",
              "7   2 Series  2018  16250       Manual    10401   Petrol  145  52.3   \n",
              "8   4 Series  2017  14250       Manual    42668   Diesel   30  62.8   \n",
              "9   5 Series  2016  14250    Automatic    36099   Diesel   20  68.9   \n",
              "\n",
              "   engineSize  \n",
              "0         2.0  \n",
              "1         2.0  \n",
              "2         3.0  \n",
              "3         1.5  \n",
              "4         3.0  \n",
              "5         2.0  \n",
              "6         2.0  \n",
              "7         1.5  \n",
              "8         2.0  \n",
              "9         2.0  "
            ],
            "text/html": [
              "\n",
              "  <div id=\"df-c4ae150f-7b74-4aa1-96e5-44ca3a060518\">\n",
              "    <div class=\"colab-df-container\">\n",
              "      <div>\n",
              "<style scoped>\n",
              "    .dataframe tbody tr th:only-of-type {\n",
              "        vertical-align: middle;\n",
              "    }\n",
              "\n",
              "    .dataframe tbody tr th {\n",
              "        vertical-align: top;\n",
              "    }\n",
              "\n",
              "    .dataframe thead th {\n",
              "        text-align: right;\n",
              "    }\n",
              "</style>\n",
              "<table border=\"1\" class=\"dataframe\">\n",
              "  <thead>\n",
              "    <tr style=\"text-align: right;\">\n",
              "      <th></th>\n",
              "      <th>model</th>\n",
              "      <th>year</th>\n",
              "      <th>price</th>\n",
              "      <th>transmission</th>\n",
              "      <th>mileage</th>\n",
              "      <th>fuelType</th>\n",
              "      <th>tax</th>\n",
              "      <th>mpg</th>\n",
              "      <th>engineSize</th>\n",
              "    </tr>\n",
              "  </thead>\n",
              "  <tbody>\n",
              "    <tr>\n",
              "      <th>0</th>\n",
              "      <td>5 Series</td>\n",
              "      <td>2014</td>\n",
              "      <td>11200</td>\n",
              "      <td>Automatic</td>\n",
              "      <td>67068</td>\n",
              "      <td>Diesel</td>\n",
              "      <td>125</td>\n",
              "      <td>57.6</td>\n",
              "      <td>2.0</td>\n",
              "    </tr>\n",
              "    <tr>\n",
              "      <th>1</th>\n",
              "      <td>6 Series</td>\n",
              "      <td>2018</td>\n",
              "      <td>27000</td>\n",
              "      <td>Automatic</td>\n",
              "      <td>14827</td>\n",
              "      <td>Petrol</td>\n",
              "      <td>145</td>\n",
              "      <td>42.8</td>\n",
              "      <td>2.0</td>\n",
              "    </tr>\n",
              "    <tr>\n",
              "      <th>2</th>\n",
              "      <td>5 Series</td>\n",
              "      <td>2016</td>\n",
              "      <td>16000</td>\n",
              "      <td>Automatic</td>\n",
              "      <td>62794</td>\n",
              "      <td>Diesel</td>\n",
              "      <td>160</td>\n",
              "      <td>51.4</td>\n",
              "      <td>3.0</td>\n",
              "    </tr>\n",
              "    <tr>\n",
              "      <th>3</th>\n",
              "      <td>1 Series</td>\n",
              "      <td>2017</td>\n",
              "      <td>12750</td>\n",
              "      <td>Automatic</td>\n",
              "      <td>26676</td>\n",
              "      <td>Diesel</td>\n",
              "      <td>145</td>\n",
              "      <td>72.4</td>\n",
              "      <td>1.5</td>\n",
              "    </tr>\n",
              "    <tr>\n",
              "      <th>4</th>\n",
              "      <td>7 Series</td>\n",
              "      <td>2014</td>\n",
              "      <td>14500</td>\n",
              "      <td>Automatic</td>\n",
              "      <td>39554</td>\n",
              "      <td>Diesel</td>\n",
              "      <td>160</td>\n",
              "      <td>50.4</td>\n",
              "      <td>3.0</td>\n",
              "    </tr>\n",
              "    <tr>\n",
              "      <th>5</th>\n",
              "      <td>5 Series</td>\n",
              "      <td>2016</td>\n",
              "      <td>14900</td>\n",
              "      <td>Automatic</td>\n",
              "      <td>35309</td>\n",
              "      <td>Diesel</td>\n",
              "      <td>125</td>\n",
              "      <td>60.1</td>\n",
              "      <td>2.0</td>\n",
              "    </tr>\n",
              "    <tr>\n",
              "      <th>6</th>\n",
              "      <td>5 Series</td>\n",
              "      <td>2017</td>\n",
              "      <td>16000</td>\n",
              "      <td>Automatic</td>\n",
              "      <td>38538</td>\n",
              "      <td>Diesel</td>\n",
              "      <td>125</td>\n",
              "      <td>60.1</td>\n",
              "      <td>2.0</td>\n",
              "    </tr>\n",
              "    <tr>\n",
              "      <th>7</th>\n",
              "      <td>2 Series</td>\n",
              "      <td>2018</td>\n",
              "      <td>16250</td>\n",
              "      <td>Manual</td>\n",
              "      <td>10401</td>\n",
              "      <td>Petrol</td>\n",
              "      <td>145</td>\n",
              "      <td>52.3</td>\n",
              "      <td>1.5</td>\n",
              "    </tr>\n",
              "    <tr>\n",
              "      <th>8</th>\n",
              "      <td>4 Series</td>\n",
              "      <td>2017</td>\n",
              "      <td>14250</td>\n",
              "      <td>Manual</td>\n",
              "      <td>42668</td>\n",
              "      <td>Diesel</td>\n",
              "      <td>30</td>\n",
              "      <td>62.8</td>\n",
              "      <td>2.0</td>\n",
              "    </tr>\n",
              "    <tr>\n",
              "      <th>9</th>\n",
              "      <td>5 Series</td>\n",
              "      <td>2016</td>\n",
              "      <td>14250</td>\n",
              "      <td>Automatic</td>\n",
              "      <td>36099</td>\n",
              "      <td>Diesel</td>\n",
              "      <td>20</td>\n",
              "      <td>68.9</td>\n",
              "      <td>2.0</td>\n",
              "    </tr>\n",
              "  </tbody>\n",
              "</table>\n",
              "</div>\n",
              "      <button class=\"colab-df-convert\" onclick=\"convertToInteractive('df-c4ae150f-7b74-4aa1-96e5-44ca3a060518')\"\n",
              "              title=\"Convert this dataframe to an interactive table.\"\n",
              "              style=\"display:none;\">\n",
              "        \n",
              "  <svg xmlns=\"http://www.w3.org/2000/svg\" height=\"24px\"viewBox=\"0 0 24 24\"\n",
              "       width=\"24px\">\n",
              "    <path d=\"M0 0h24v24H0V0z\" fill=\"none\"/>\n",
              "    <path d=\"M18.56 5.44l.94 2.06.94-2.06 2.06-.94-2.06-.94-.94-2.06-.94 2.06-2.06.94zm-11 1L8.5 8.5l.94-2.06 2.06-.94-2.06-.94L8.5 2.5l-.94 2.06-2.06.94zm10 10l.94 2.06.94-2.06 2.06-.94-2.06-.94-.94-2.06-.94 2.06-2.06.94z\"/><path d=\"M17.41 7.96l-1.37-1.37c-.4-.4-.92-.59-1.43-.59-.52 0-1.04.2-1.43.59L10.3 9.45l-7.72 7.72c-.78.78-.78 2.05 0 2.83L4 21.41c.39.39.9.59 1.41.59.51 0 1.02-.2 1.41-.59l7.78-7.78 2.81-2.81c.8-.78.8-2.07 0-2.86zM5.41 20L4 18.59l7.72-7.72 1.47 1.35L5.41 20z\"/>\n",
              "  </svg>\n",
              "      </button>\n",
              "      \n",
              "  <style>\n",
              "    .colab-df-container {\n",
              "      display:flex;\n",
              "      flex-wrap:wrap;\n",
              "      gap: 12px;\n",
              "    }\n",
              "\n",
              "    .colab-df-convert {\n",
              "      background-color: #E8F0FE;\n",
              "      border: none;\n",
              "      border-radius: 50%;\n",
              "      cursor: pointer;\n",
              "      display: none;\n",
              "      fill: #1967D2;\n",
              "      height: 32px;\n",
              "      padding: 0 0 0 0;\n",
              "      width: 32px;\n",
              "    }\n",
              "\n",
              "    .colab-df-convert:hover {\n",
              "      background-color: #E2EBFA;\n",
              "      box-shadow: 0px 1px 2px rgba(60, 64, 67, 0.3), 0px 1px 3px 1px rgba(60, 64, 67, 0.15);\n",
              "      fill: #174EA6;\n",
              "    }\n",
              "\n",
              "    [theme=dark] .colab-df-convert {\n",
              "      background-color: #3B4455;\n",
              "      fill: #D2E3FC;\n",
              "    }\n",
              "\n",
              "    [theme=dark] .colab-df-convert:hover {\n",
              "      background-color: #434B5C;\n",
              "      box-shadow: 0px 1px 3px 1px rgba(0, 0, 0, 0.15);\n",
              "      filter: drop-shadow(0px 1px 2px rgba(0, 0, 0, 0.3));\n",
              "      fill: #FFFFFF;\n",
              "    }\n",
              "  </style>\n",
              "\n",
              "      <script>\n",
              "        const buttonEl =\n",
              "          document.querySelector('#df-c4ae150f-7b74-4aa1-96e5-44ca3a060518 button.colab-df-convert');\n",
              "        buttonEl.style.display =\n",
              "          google.colab.kernel.accessAllowed ? 'block' : 'none';\n",
              "\n",
              "        async function convertToInteractive(key) {\n",
              "          const element = document.querySelector('#df-c4ae150f-7b74-4aa1-96e5-44ca3a060518');\n",
              "          const dataTable =\n",
              "            await google.colab.kernel.invokeFunction('convertToInteractive',\n",
              "                                                     [key], {});\n",
              "          if (!dataTable) return;\n",
              "\n",
              "          const docLinkHtml = 'Like what you see? Visit the ' +\n",
              "            '<a target=\"_blank\" href=https://colab.research.google.com/notebooks/data_table.ipynb>data table notebook</a>'\n",
              "            + ' to learn more about interactive tables.';\n",
              "          element.innerHTML = '';\n",
              "          dataTable['output_type'] = 'display_data';\n",
              "          await google.colab.output.renderOutput(dataTable, element);\n",
              "          const docLink = document.createElement('div');\n",
              "          docLink.innerHTML = docLinkHtml;\n",
              "          element.appendChild(docLink);\n",
              "        }\n",
              "      </script>\n",
              "    </div>\n",
              "  </div>\n",
              "  "
            ]
          },
          "metadata": {},
          "execution_count": 59
        }
      ]
    },
    {
      "cell_type": "markdown",
      "source": [
        "#**$\\color{skyblue}{\\text{Cleaning Data}}$**"
      ],
      "metadata": {
        "id": "FxWqleve6coO"
      }
    },
    {
      "cell_type": "code",
      "source": [
        "df = df.dropna()"
      ],
      "metadata": {
        "id": "OZkWd5Qk9ws9"
      },
      "execution_count": 62,
      "outputs": []
    },
    {
      "cell_type": "code",
      "source": [
        "print(df.duplicated().sum())"
      ],
      "metadata": {
        "colab": {
          "base_uri": "https://localhost:8080/"
        },
        "id": "9OIG5lxq05_O",
        "outputId": "2129cbbf-2003-4031-a028-808ef6e68ab3"
      },
      "execution_count": 63,
      "outputs": [
        {
          "output_type": "stream",
          "name": "stdout",
          "text": [
            "117\n"
          ]
        }
      ]
    },
    {
      "cell_type": "code",
      "source": [
        "df.drop_duplicates(inplace = True)"
      ],
      "metadata": {
        "id": "F4OBXwG41ky7"
      },
      "execution_count": 64,
      "outputs": []
    },
    {
      "cell_type": "markdown",
      "source": [
        "#Research Question 1 (What is the correlation between all columns ?)"
      ],
      "metadata": {
        "id": "Eodu0bGshyAr"
      }
    },
    {
      "cell_type": "code",
      "source": [
        "df.corr()"
      ],
      "metadata": {
        "colab": {
          "base_uri": "https://localhost:8080/",
          "height": 237
        },
        "id": "vEf1bntB2mS6",
        "outputId": "6212ac1e-3599-4387-b1cc-70eb4bc55cbe"
      },
      "execution_count": 65,
      "outputs": [
        {
          "output_type": "execute_result",
          "data": {
            "text/plain": [
              "                year     price   mileage       tax       mpg  engineSize\n",
              "year        1.000000  0.623754 -0.772761  0.025393 -0.070185   -0.022398\n",
              "price       0.623754  1.000000 -0.605473  0.264178 -0.203986    0.461750\n",
              "mileage    -0.772761 -0.605473  1.000000 -0.171236  0.117014   -0.006961\n",
              "tax         0.025393  0.264178 -0.171236  1.000000 -0.351837    0.431361\n",
              "mpg        -0.070185 -0.203986  0.117014 -0.351837  1.000000   -0.402058\n",
              "engineSize -0.022398  0.461750 -0.006961  0.431361 -0.402058    1.000000"
            ],
            "text/html": [
              "\n",
              "  <div id=\"df-65165618-6c7e-4e66-b033-61407f4527a8\">\n",
              "    <div class=\"colab-df-container\">\n",
              "      <div>\n",
              "<style scoped>\n",
              "    .dataframe tbody tr th:only-of-type {\n",
              "        vertical-align: middle;\n",
              "    }\n",
              "\n",
              "    .dataframe tbody tr th {\n",
              "        vertical-align: top;\n",
              "    }\n",
              "\n",
              "    .dataframe thead th {\n",
              "        text-align: right;\n",
              "    }\n",
              "</style>\n",
              "<table border=\"1\" class=\"dataframe\">\n",
              "  <thead>\n",
              "    <tr style=\"text-align: right;\">\n",
              "      <th></th>\n",
              "      <th>year</th>\n",
              "      <th>price</th>\n",
              "      <th>mileage</th>\n",
              "      <th>tax</th>\n",
              "      <th>mpg</th>\n",
              "      <th>engineSize</th>\n",
              "    </tr>\n",
              "  </thead>\n",
              "  <tbody>\n",
              "    <tr>\n",
              "      <th>year</th>\n",
              "      <td>1.000000</td>\n",
              "      <td>0.623754</td>\n",
              "      <td>-0.772761</td>\n",
              "      <td>0.025393</td>\n",
              "      <td>-0.070185</td>\n",
              "      <td>-0.022398</td>\n",
              "    </tr>\n",
              "    <tr>\n",
              "      <th>price</th>\n",
              "      <td>0.623754</td>\n",
              "      <td>1.000000</td>\n",
              "      <td>-0.605473</td>\n",
              "      <td>0.264178</td>\n",
              "      <td>-0.203986</td>\n",
              "      <td>0.461750</td>\n",
              "    </tr>\n",
              "    <tr>\n",
              "      <th>mileage</th>\n",
              "      <td>-0.772761</td>\n",
              "      <td>-0.605473</td>\n",
              "      <td>1.000000</td>\n",
              "      <td>-0.171236</td>\n",
              "      <td>0.117014</td>\n",
              "      <td>-0.006961</td>\n",
              "    </tr>\n",
              "    <tr>\n",
              "      <th>tax</th>\n",
              "      <td>0.025393</td>\n",
              "      <td>0.264178</td>\n",
              "      <td>-0.171236</td>\n",
              "      <td>1.000000</td>\n",
              "      <td>-0.351837</td>\n",
              "      <td>0.431361</td>\n",
              "    </tr>\n",
              "    <tr>\n",
              "      <th>mpg</th>\n",
              "      <td>-0.070185</td>\n",
              "      <td>-0.203986</td>\n",
              "      <td>0.117014</td>\n",
              "      <td>-0.351837</td>\n",
              "      <td>1.000000</td>\n",
              "      <td>-0.402058</td>\n",
              "    </tr>\n",
              "    <tr>\n",
              "      <th>engineSize</th>\n",
              "      <td>-0.022398</td>\n",
              "      <td>0.461750</td>\n",
              "      <td>-0.006961</td>\n",
              "      <td>0.431361</td>\n",
              "      <td>-0.402058</td>\n",
              "      <td>1.000000</td>\n",
              "    </tr>\n",
              "  </tbody>\n",
              "</table>\n",
              "</div>\n",
              "      <button class=\"colab-df-convert\" onclick=\"convertToInteractive('df-65165618-6c7e-4e66-b033-61407f4527a8')\"\n",
              "              title=\"Convert this dataframe to an interactive table.\"\n",
              "              style=\"display:none;\">\n",
              "        \n",
              "  <svg xmlns=\"http://www.w3.org/2000/svg\" height=\"24px\"viewBox=\"0 0 24 24\"\n",
              "       width=\"24px\">\n",
              "    <path d=\"M0 0h24v24H0V0z\" fill=\"none\"/>\n",
              "    <path d=\"M18.56 5.44l.94 2.06.94-2.06 2.06-.94-2.06-.94-.94-2.06-.94 2.06-2.06.94zm-11 1L8.5 8.5l.94-2.06 2.06-.94-2.06-.94L8.5 2.5l-.94 2.06-2.06.94zm10 10l.94 2.06.94-2.06 2.06-.94-2.06-.94-.94-2.06-.94 2.06-2.06.94z\"/><path d=\"M17.41 7.96l-1.37-1.37c-.4-.4-.92-.59-1.43-.59-.52 0-1.04.2-1.43.59L10.3 9.45l-7.72 7.72c-.78.78-.78 2.05 0 2.83L4 21.41c.39.39.9.59 1.41.59.51 0 1.02-.2 1.41-.59l7.78-7.78 2.81-2.81c.8-.78.8-2.07 0-2.86zM5.41 20L4 18.59l7.72-7.72 1.47 1.35L5.41 20z\"/>\n",
              "  </svg>\n",
              "      </button>\n",
              "      \n",
              "  <style>\n",
              "    .colab-df-container {\n",
              "      display:flex;\n",
              "      flex-wrap:wrap;\n",
              "      gap: 12px;\n",
              "    }\n",
              "\n",
              "    .colab-df-convert {\n",
              "      background-color: #E8F0FE;\n",
              "      border: none;\n",
              "      border-radius: 50%;\n",
              "      cursor: pointer;\n",
              "      display: none;\n",
              "      fill: #1967D2;\n",
              "      height: 32px;\n",
              "      padding: 0 0 0 0;\n",
              "      width: 32px;\n",
              "    }\n",
              "\n",
              "    .colab-df-convert:hover {\n",
              "      background-color: #E2EBFA;\n",
              "      box-shadow: 0px 1px 2px rgba(60, 64, 67, 0.3), 0px 1px 3px 1px rgba(60, 64, 67, 0.15);\n",
              "      fill: #174EA6;\n",
              "    }\n",
              "\n",
              "    [theme=dark] .colab-df-convert {\n",
              "      background-color: #3B4455;\n",
              "      fill: #D2E3FC;\n",
              "    }\n",
              "\n",
              "    [theme=dark] .colab-df-convert:hover {\n",
              "      background-color: #434B5C;\n",
              "      box-shadow: 0px 1px 3px 1px rgba(0, 0, 0, 0.15);\n",
              "      filter: drop-shadow(0px 1px 2px rgba(0, 0, 0, 0.3));\n",
              "      fill: #FFFFFF;\n",
              "    }\n",
              "  </style>\n",
              "\n",
              "      <script>\n",
              "        const buttonEl =\n",
              "          document.querySelector('#df-65165618-6c7e-4e66-b033-61407f4527a8 button.colab-df-convert');\n",
              "        buttonEl.style.display =\n",
              "          google.colab.kernel.accessAllowed ? 'block' : 'none';\n",
              "\n",
              "        async function convertToInteractive(key) {\n",
              "          const element = document.querySelector('#df-65165618-6c7e-4e66-b033-61407f4527a8');\n",
              "          const dataTable =\n",
              "            await google.colab.kernel.invokeFunction('convertToInteractive',\n",
              "                                                     [key], {});\n",
              "          if (!dataTable) return;\n",
              "\n",
              "          const docLinkHtml = 'Like what you see? Visit the ' +\n",
              "            '<a target=\"_blank\" href=https://colab.research.google.com/notebooks/data_table.ipynb>data table notebook</a>'\n",
              "            + ' to learn more about interactive tables.';\n",
              "          element.innerHTML = '';\n",
              "          dataTable['output_type'] = 'display_data';\n",
              "          await google.colab.output.renderOutput(dataTable, element);\n",
              "          const docLink = document.createElement('div');\n",
              "          docLink.innerHTML = docLinkHtml;\n",
              "          element.appendChild(docLink);\n",
              "        }\n",
              "      </script>\n",
              "    </div>\n",
              "  </div>\n",
              "  "
            ]
          },
          "metadata": {},
          "execution_count": 65
        }
      ]
    },
    {
      "cell_type": "markdown",
      "source": [
        "What is a good correlation? It depends on the use, but I think it is safe to say you have to have at least 0.6 (or -0.6) to call it a good correlation.\n",
        "\n",
        "\n",
        "so we only have a good correlation between (year & price, mileage & price  )"
      ],
      "metadata": {
        "id": "27dcEZtw69Gt"
      }
    },
    {
      "cell_type": "code",
      "source": [
        "df.plot(kind = 'scatter', x = 'year', y = 'price')\n",
        "plt.show()"
      ],
      "metadata": {
        "colab": {
          "base_uri": "https://localhost:8080/",
          "height": 279
        },
        "id": "4Uyfl8l_8MAx",
        "outputId": "f8d1e89b-f3be-4055-ee6d-f3f5b8c18244"
      },
      "execution_count": 66,
      "outputs": [
        {
          "output_type": "display_data",
          "data": {
            "text/plain": [
              "<Figure size 432x288 with 1 Axes>"
            ],
            "image/png": "[encoded data removed]"
          },
          "metadata": {
            "needs_background": "light"
          }
        }
      ]
    },
    {
      "cell_type": "code",
      "source": [
        "df.plot(kind = 'scatter', x = \"mileage\", y = \"price\" )\n",
        "plt.show()"
      ],
      "metadata": {
        "colab": {
          "base_uri": "https://localhost:8080/",
          "height": 279
        },
        "id": "U6uvRh0p8fIq",
        "outputId": "88ae7aae-a607-4cea-c59d-726f374a6f67"
      },
      "execution_count": 67,
      "outputs": [
        {
          "output_type": "display_data",
          "data": {
            "text/plain": [
              "<Figure size 432x288 with 1 Axes>"
            ],
            "image/png": "[encoded data removed]"
          },
          "metadata": {
            "needs_background": "light"
          }
        }
      ]
    },
    {
      "cell_type": "markdown",
      "source": [
        "#Research Question 2 (Which model has the highest of prices ?)"
      ],
      "metadata": {
        "id": "z9ASVHKpiR_O"
      }
    },
    {
      "cell_type": "code",
      "source": [
        "models_names = {}\n",
        "\n",
        "for model_name in df[\"model\"]:\n",
        "  if model_name not in models_names:\n",
        "     filtered_prices = df[df['model']== model_name ][\"price\"].sum()\n",
        "     models_names [model_name] = filtered_prices"
      ],
      "metadata": {
        "id": "lO54EQvmig4P"
      },
      "execution_count": 68,
      "outputs": []
    },
    {
      "cell_type": "code",
      "source": [
        "inverse = [(value, key) for key, value in models_names.items()]\n",
        "\n",
        "print(max(inverse)[1],\":\", max(inverse)[0])\n",
        "print(min(inverse)[1],\":\", min(inverse)[0])"
      ],
      "metadata": {
        "colab": {
          "base_uri": "https://localhost:8080/"
        },
        "id": "Ot-V2JZ9nb5f",
        "outputId": "ae978256-2995-4a01-94eb-90902c60cade"
      },
      "execution_count": 69,
      "outputs": [
        {
          "output_type": "stream",
          "name": "stdout",
          "text": [
            " 3 Series : 48319016\n",
            " Z3 : 40785\n"
          ]
        }
      ]
    },
    {
      "cell_type": "markdown",
      "source": [
        "The highst prices goes to \"3 Series\" and the lowest to \"z3\""
      ],
      "metadata": {
        "id": "sNuqAhK4oqq3"
      }
    },
    {
      "cell_type": "markdown",
      "source": [
        "#Research Question 3 (Which one has the highst price avr automatic or manual or semi-auto ?)"
      ],
      "metadata": {
        "id": "bv8Kujgts8gS"
      }
    },
    {
      "cell_type": "code",
      "source": [
        "for transmission in df['transmission'].unique() :\n",
        "  print(transmission , \":\" ,  round(df[df[\"transmission\"] == transmission ]['price'].mean(),2))"
      ],
      "metadata": {
        "colab": {
          "base_uri": "https://localhost:8080/"
        },
        "id": "dzBm-hmM-a75",
        "outputId": "8871256c-6afa-4371-9494-b874cb29093f"
      },
      "execution_count": 83,
      "outputs": [
        {
          "output_type": "stream",
          "name": "stdout",
          "text": [
            "Automatic : 22333.31\n",
            "Manual : 14538.58\n",
            "Semi-Auto : 27337.51\n"
          ]
        }
      ]
    },
    {
      "cell_type": "markdown",
      "source": [
        "#Research Question 4 (Which type of fuel has the highest price ?)"
      ],
      "metadata": {
        "id": "fNkCxSkkA4Hx"
      }
    },
    {
      "cell_type": "code",
      "source": [
        "for fuelType in df['fuelType'].unique():\n",
        "  print(fuelType , \":\" , round(df[df['fuelType'] == fuelType]['price'].mean(),2))"
      ],
      "metadata": {
        "colab": {
          "base_uri": "https://localhost:8080/"
        },
        "outputId": "be2f9046-19ed-46d8-e05e-e6a3b62b6a86",
        "id": "wCHCZhnPAkAq"
      },
      "execution_count": 84,
      "outputs": [
        {
          "output_type": "stream",
          "name": "stdout",
          "text": [
            "Diesel : 21749.45\n",
            "Petrol : 24322.28\n",
            "Other : 18193.86\n",
            "Hybrid : 27154.97\n",
            "Electric : 18466.0\n"
          ]
        }
      ]
    },
    {
      "cell_type": "code",
      "source": [
        "models_prices = {}\n",
        "\n",
        "for model in df['model'].unique():\n",
        "  #print(model , \":\" , round(df[df['model'] == model]['price'].mean(),2))\n",
        "  models_prices [model] = round(df[df['model'] == model]['price'].mean(),2)\n",
        "models_prices"
      ],
      "metadata": {
        "colab": {
          "base_uri": "https://localhost:8080/"
        },
        "id": "X0iTcAy1B6Rz",
        "outputId": "61597c25-d64b-4890-a3d4-a0a7aeefbd01"
      },
      "execution_count": 89,
      "outputs": [
        {
          "output_type": "execute_result",
          "data": {
            "text/plain": [
              "{' 5 Series': 22496.28,\n",
              " ' 6 Series': 24354.37,\n",
              " ' 1 Series': 15810.91,\n",
              " ' 7 Series': 36934.32,\n",
              " ' 2 Series': 19445.35,\n",
              " ' 4 Series': 22441.98,\n",
              " ' X3': 27742.53,\n",
              " ' 3 Series': 19851.69,\n",
              " ' X5': 39559.47,\n",
              " ' X4': 32630.74,\n",
              " ' i3': 18667.12,\n",
              " ' X1': 19835.96,\n",
              " ' M4': 43277.3,\n",
              " ' X2': 28526.81,\n",
              " ' X6': 43838.61,\n",
              " ' 8 Series': 63997.79,\n",
              " ' Z4': 26919.24,\n",
              " ' X7': 69842.76,\n",
              " ' M5': 57760.0,\n",
              " ' i8': 57012.59,\n",
              " ' M2': 43140.33,\n",
              " ' M3': 30740.54,\n",
              " ' M6': 32190.0,\n",
              " ' Z3': 5826.43}"
            ]
          },
          "metadata": {},
          "execution_count": 89
        }
      ]
    },
    {
      "cell_type": "code",
      "source": [
        "for key, value in models_prices.items():\n",
        "  if value == max(models_prices.values()):\n",
        "    print(key, \":\", value)"
      ],
      "metadata": {
        "colab": {
          "base_uri": "https://localhost:8080/"
        },
        "id": "NvYZxS_GDM9U",
        "outputId": "12feec5c-eb3e-4eea-8984-5234b89055f3"
      },
      "execution_count": 91,
      "outputs": [
        {
          "output_type": "stream",
          "name": "stdout",
          "text": [
            " X7 : 69842.76\n"
          ]
        }
      ]
    }
  ]
}